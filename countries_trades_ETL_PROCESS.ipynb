{
 "cells": [
  {
   "cell_type": "markdown",
   "source": [
    "# ETL de datos de importación de productos"
   ],
   "metadata": {
    "id": "XXPDOk3zk6CI"
   }
  },
  {
   "cell_type": "markdown",
   "source": [
    "## Instalación de librerías base"
   ],
   "metadata": {
    "id": "Wy1F5LuvlDo-"
   }
  },
  {
   "cell_type": "code",
   "execution_count": 1,
   "metadata": {
    "collapsed": true,
    "pycharm": {
     "name": "#%%\n"
    },
    "id": "kvkfu3hli-We",
    "ExecuteTime": {
     "end_time": "2023-12-06T16:43:11.185276600Z",
     "start_time": "2023-12-06T16:43:10.018227100Z"
    }
   },
   "outputs": [],
   "source": [
    "import pandas as pd\n",
    "from sqlalchemy import create_engine\n",
    "import uuid\n",
    "import psycopg2 as pg"
   ]
  },
  {
   "cell_type": "markdown",
   "source": [
    "## Extraction"
   ],
   "metadata": {
    "collapsed": false,
    "pycharm": {
     "name": "#%% md\n"
    },
    "id": "DZG-TZxpi-Wh"
   }
  },
  {
   "cell_type": "code",
   "execution_count": 2,
   "outputs": [
    {
     "data": {
      "text/plain": "  country_code  year  comm_code       flow  trade_usd   kg  quantity  \\\n0          SYC  1998     890200     Import  1431426.0  0.0   23000.0   \n1          SYC  1998     890310     Import    31406.0  0.0    2545.0   \n2          SYC  1998     890310     Export      950.0  0.0     300.0   \n3          SYC  1998     890310  Re-Export      950.0  0.0     300.0   \n4          SYC  1998     890391     Import    18251.0  0.0     450.0   \n\n     quantity_name  \n0  Number of items  \n1  Number of items  \n2  Number of items  \n3  Number of items  \n4  Number of items  ",
      "text/html": "<div>\n<style scoped>\n    .dataframe tbody tr th:only-of-type {\n        vertical-align: middle;\n    }\n\n    .dataframe tbody tr th {\n        vertical-align: top;\n    }\n\n    .dataframe thead th {\n        text-align: right;\n    }\n</style>\n<table border=\"1\" class=\"dataframe\">\n  <thead>\n    <tr style=\"text-align: right;\">\n      <th></th>\n      <th>country_code</th>\n      <th>year</th>\n      <th>comm_code</th>\n      <th>flow</th>\n      <th>trade_usd</th>\n      <th>kg</th>\n      <th>quantity</th>\n      <th>quantity_name</th>\n    </tr>\n  </thead>\n  <tbody>\n    <tr>\n      <th>0</th>\n      <td>SYC</td>\n      <td>1998</td>\n      <td>890200</td>\n      <td>Import</td>\n      <td>1431426.0</td>\n      <td>0.0</td>\n      <td>23000.0</td>\n      <td>Number of items</td>\n    </tr>\n    <tr>\n      <th>1</th>\n      <td>SYC</td>\n      <td>1998</td>\n      <td>890310</td>\n      <td>Import</td>\n      <td>31406.0</td>\n      <td>0.0</td>\n      <td>2545.0</td>\n      <td>Number of items</td>\n    </tr>\n    <tr>\n      <th>2</th>\n      <td>SYC</td>\n      <td>1998</td>\n      <td>890310</td>\n      <td>Export</td>\n      <td>950.0</td>\n      <td>0.0</td>\n      <td>300.0</td>\n      <td>Number of items</td>\n    </tr>\n    <tr>\n      <th>3</th>\n      <td>SYC</td>\n      <td>1998</td>\n      <td>890310</td>\n      <td>Re-Export</td>\n      <td>950.0</td>\n      <td>0.0</td>\n      <td>300.0</td>\n      <td>Number of items</td>\n    </tr>\n    <tr>\n      <th>4</th>\n      <td>SYC</td>\n      <td>1998</td>\n      <td>890391</td>\n      <td>Import</td>\n      <td>18251.0</td>\n      <td>0.0</td>\n      <td>450.0</td>\n      <td>Number of items</td>\n    </tr>\n  </tbody>\n</table>\n</div>"
     },
     "execution_count": 2,
     "metadata": {},
     "output_type": "execute_result"
    }
   ],
   "source": [
    "#The dataset cotain information retaled to importation and exportation transactions between countries.\n",
    "# Conexión a la base de datos PostgreSQL\n",
    "\n",
    "conn = pg.connect(\n",
    "    host=\"localhost\",\n",
    "    database=\"postgres\",\n",
    "    user=\"postgres\",\n",
    "    password=\"mysecretpass\"\n",
    ")\n",
    "query = \"SELECT * FROM trades\"\n",
    "trades_generator = pd.read_sql_query(query, conn)\n",
    "\n",
    "trades_generator.head(5)"
   ],
   "metadata": {
    "collapsed": false,
    "ExecuteTime": {
     "end_time": "2023-12-06T16:46:48.531105200Z",
     "start_time": "2023-12-06T16:43:13.133853500Z"
    }
   }
  },
  {
   "cell_type": "code",
   "execution_count": 3,
   "outputs": [
    {
     "data": {
      "text/plain": "      Order  Level         Code        Parent Code_comm Parent.1  \\\n0   1654555      1            0           NaN       NaN      NaN   \n1   1654556      1  10011000090           NaN         I      NaN   \n2   1654557      2  10021000090  1.001100e+10         1        I   \n3   1654558      3  10100000080  1.002100e+10      1.01        1   \n4   1654559      4  10121000010  1.010000e+10       NaN     1.01   \n5   1654560      5  10121000080  1.012100e+10    101.21      NaN   \n6   1654561      5  10129000080  1.012100e+10    101.29      NaN   \n7   1654562      4  10130000080  1.010000e+10     101.3     1.01   \n8   1654563      4  10190000080  1.010000e+10     101.9     1.01   \n9   1654564      3  10200000080  1.002100e+10      1.02        1   \n10  1654565      4  10221000010  1.020000e+10       NaN     1.02   \n11  1654566      5  10221000080  1.022100e+10    102.21      NaN   \n12  1654567      5  10229000080  1.022100e+10    102.29      NaN   \n13  1654568      4  10231000010  1.020000e+10       NaN     1.02   \n14  1654569      5  10231000080  1.023100e+10    102.31      NaN   \n15  1654570      5  10239000080  1.023100e+10    102.39      NaN   \n16  1654571      4  10290000080  1.020000e+10     102.9     1.02   \n17  1654572      3  10300000080  1.002100e+10      1.03        1   \n18  1654573      4  10310000080  1.030000e+10     103.1     1.03   \n19  1654574      4  10391000010  1.030000e+10       NaN     1.03   \n\n                                  Description_complex  \\\n0   This classification has been uploaded in RAMON...   \n1           SECTION I - LIVE ANIMALS; ANIMAL PRODUCTS   \n2                            CHAPTER 1 - LIVE ANIMALS   \n3               Live horses, asses, mules and hinnies   \n4                                            - Horses   \n5                       -- Pure-bred breeding animals   \n6                                            -- Other   \n7                                             - Asses   \n8                                             - Other   \n9                                 Live bovine animals   \n10                                           - Cattle   \n11                      -- Pure-bred breeding animals   \n12                                           -- Other   \n13                                          - Buffalo   \n14                      -- Pure-bred breeding animals   \n15                                           -- Other   \n16                                            - Other   \n17                                         Live swine   \n18                       - Pure-bred breeding animals   \n19                                            - Other   \n\n                                          Description  \n0   This classification has been uploaded in RAMON...  \n1                       LIVE ANIMALS; ANIMAL PRODUCTS  \n2                                        LIVE ANIMALS  \n3               Live horses, asses, mules and hinnies  \n4                                                 NaN  \n5                           Pure-bred breeding horses  \n6          Live horses (excl. pure-bred for breeding)  \n7                                          Live asses  \n8                              Live mules and hinnies  \n9                                 Live bovine animals  \n10                                                NaN  \n11                      Pure-bred cattle for breeding  \n12         Live cattle (excl. pure-bred for breeding)  \n13                                                NaN  \n14                     Pure-bred buffalo for breeding  \n15        Live buffalo (excl. pure-bred for breeding)  \n16     Live bovine animals (excl. cattle and buffalo)  \n17                                         Live swine  \n18                           Pure-bred breeding swine  \n19                                                NaN  ",
      "text/html": "<div>\n<style scoped>\n    .dataframe tbody tr th:only-of-type {\n        vertical-align: middle;\n    }\n\n    .dataframe tbody tr th {\n        vertical-align: top;\n    }\n\n    .dataframe thead th {\n        text-align: right;\n    }\n</style>\n<table border=\"1\" class=\"dataframe\">\n  <thead>\n    <tr style=\"text-align: right;\">\n      <th></th>\n      <th>Order</th>\n      <th>Level</th>\n      <th>Code</th>\n      <th>Parent</th>\n      <th>Code_comm</th>\n      <th>Parent.1</th>\n      <th>Description_complex</th>\n      <th>Description</th>\n    </tr>\n  </thead>\n  <tbody>\n    <tr>\n      <th>0</th>\n      <td>1654555</td>\n      <td>1</td>\n      <td>0</td>\n      <td>NaN</td>\n      <td>NaN</td>\n      <td>NaN</td>\n      <td>This classification has been uploaded in RAMON...</td>\n      <td>This classification has been uploaded in RAMON...</td>\n    </tr>\n    <tr>\n      <th>1</th>\n      <td>1654556</td>\n      <td>1</td>\n      <td>10011000090</td>\n      <td>NaN</td>\n      <td>I</td>\n      <td>NaN</td>\n      <td>SECTION I - LIVE ANIMALS; ANIMAL PRODUCTS</td>\n      <td>LIVE ANIMALS; ANIMAL PRODUCTS</td>\n    </tr>\n    <tr>\n      <th>2</th>\n      <td>1654557</td>\n      <td>2</td>\n      <td>10021000090</td>\n      <td>1.001100e+10</td>\n      <td>1</td>\n      <td>I</td>\n      <td>CHAPTER 1 - LIVE ANIMALS</td>\n      <td>LIVE ANIMALS</td>\n    </tr>\n    <tr>\n      <th>3</th>\n      <td>1654558</td>\n      <td>3</td>\n      <td>10100000080</td>\n      <td>1.002100e+10</td>\n      <td>1.01</td>\n      <td>1</td>\n      <td>Live horses, asses, mules and hinnies</td>\n      <td>Live horses, asses, mules and hinnies</td>\n    </tr>\n    <tr>\n      <th>4</th>\n      <td>1654559</td>\n      <td>4</td>\n      <td>10121000010</td>\n      <td>1.010000e+10</td>\n      <td>NaN</td>\n      <td>1.01</td>\n      <td>- Horses</td>\n      <td>NaN</td>\n    </tr>\n    <tr>\n      <th>5</th>\n      <td>1654560</td>\n      <td>5</td>\n      <td>10121000080</td>\n      <td>1.012100e+10</td>\n      <td>101.21</td>\n      <td>NaN</td>\n      <td>-- Pure-bred breeding animals</td>\n      <td>Pure-bred breeding horses</td>\n    </tr>\n    <tr>\n      <th>6</th>\n      <td>1654561</td>\n      <td>5</td>\n      <td>10129000080</td>\n      <td>1.012100e+10</td>\n      <td>101.29</td>\n      <td>NaN</td>\n      <td>-- Other</td>\n      <td>Live horses (excl. pure-bred for breeding)</td>\n    </tr>\n    <tr>\n      <th>7</th>\n      <td>1654562</td>\n      <td>4</td>\n      <td>10130000080</td>\n      <td>1.010000e+10</td>\n      <td>101.3</td>\n      <td>1.01</td>\n      <td>- Asses</td>\n      <td>Live asses</td>\n    </tr>\n    <tr>\n      <th>8</th>\n      <td>1654563</td>\n      <td>4</td>\n      <td>10190000080</td>\n      <td>1.010000e+10</td>\n      <td>101.9</td>\n      <td>1.01</td>\n      <td>- Other</td>\n      <td>Live mules and hinnies</td>\n    </tr>\n    <tr>\n      <th>9</th>\n      <td>1654564</td>\n      <td>3</td>\n      <td>10200000080</td>\n      <td>1.002100e+10</td>\n      <td>1.02</td>\n      <td>1</td>\n      <td>Live bovine animals</td>\n      <td>Live bovine animals</td>\n    </tr>\n    <tr>\n      <th>10</th>\n      <td>1654565</td>\n      <td>4</td>\n      <td>10221000010</td>\n      <td>1.020000e+10</td>\n      <td>NaN</td>\n      <td>1.02</td>\n      <td>- Cattle</td>\n      <td>NaN</td>\n    </tr>\n    <tr>\n      <th>11</th>\n      <td>1654566</td>\n      <td>5</td>\n      <td>10221000080</td>\n      <td>1.022100e+10</td>\n      <td>102.21</td>\n      <td>NaN</td>\n      <td>-- Pure-bred breeding animals</td>\n      <td>Pure-bred cattle for breeding</td>\n    </tr>\n    <tr>\n      <th>12</th>\n      <td>1654567</td>\n      <td>5</td>\n      <td>10229000080</td>\n      <td>1.022100e+10</td>\n      <td>102.29</td>\n      <td>NaN</td>\n      <td>-- Other</td>\n      <td>Live cattle (excl. pure-bred for breeding)</td>\n    </tr>\n    <tr>\n      <th>13</th>\n      <td>1654568</td>\n      <td>4</td>\n      <td>10231000010</td>\n      <td>1.020000e+10</td>\n      <td>NaN</td>\n      <td>1.02</td>\n      <td>- Buffalo</td>\n      <td>NaN</td>\n    </tr>\n    <tr>\n      <th>14</th>\n      <td>1654569</td>\n      <td>5</td>\n      <td>10231000080</td>\n      <td>1.023100e+10</td>\n      <td>102.31</td>\n      <td>NaN</td>\n      <td>-- Pure-bred breeding animals</td>\n      <td>Pure-bred buffalo for breeding</td>\n    </tr>\n    <tr>\n      <th>15</th>\n      <td>1654570</td>\n      <td>5</td>\n      <td>10239000080</td>\n      <td>1.023100e+10</td>\n      <td>102.39</td>\n      <td>NaN</td>\n      <td>-- Other</td>\n      <td>Live buffalo (excl. pure-bred for breeding)</td>\n    </tr>\n    <tr>\n      <th>16</th>\n      <td>1654571</td>\n      <td>4</td>\n      <td>10290000080</td>\n      <td>1.020000e+10</td>\n      <td>102.9</td>\n      <td>1.02</td>\n      <td>- Other</td>\n      <td>Live bovine animals (excl. cattle and buffalo)</td>\n    </tr>\n    <tr>\n      <th>17</th>\n      <td>1654572</td>\n      <td>3</td>\n      <td>10300000080</td>\n      <td>1.002100e+10</td>\n      <td>1.03</td>\n      <td>1</td>\n      <td>Live swine</td>\n      <td>Live swine</td>\n    </tr>\n    <tr>\n      <th>18</th>\n      <td>1654573</td>\n      <td>4</td>\n      <td>10310000080</td>\n      <td>1.030000e+10</td>\n      <td>103.1</td>\n      <td>1.03</td>\n      <td>- Pure-bred breeding animals</td>\n      <td>Pure-bred breeding swine</td>\n    </tr>\n    <tr>\n      <th>19</th>\n      <td>1654574</td>\n      <td>4</td>\n      <td>10391000010</td>\n      <td>1.030000e+10</td>\n      <td>NaN</td>\n      <td>1.03</td>\n      <td>- Other</td>\n      <td>NaN</td>\n    </tr>\n  </tbody>\n</table>\n</div>"
     },
     "execution_count": 3,
     "metadata": {},
     "output_type": "execute_result"
    }
   ],
   "source": [
    "#Informatin related with the codes that represent each coutnry\n",
    "df_countries = pd.read_json('C:/Users/manue/Desktop/Platzi/Fundamentos de ETL con Python y Pentaho/country_data.json')\n",
    "\n",
    "#Codes that are used in the importation and exportation transactions.\n",
    "df_codes = pd.read_csv('C:/Users/manue/Desktop/Platzi/Fundamentos de ETL con Python y Pentaho/hs_codes.csv')\n",
    "df_codes.head(20)"
   ],
   "metadata": {
    "collapsed": false,
    "ExecuteTime": {
     "end_time": "2023-12-06T16:48:38.078575600Z",
     "start_time": "2023-12-06T16:48:37.789869700Z"
    }
   }
  },
  {
   "cell_type": "code",
   "execution_count": 4,
   "outputs": [
    {
     "data": {
      "text/plain": "        Order  Level          Code        Parent Code_comm Parent.1  \\\n2     1654557      2   10021000090  1.001100e+10         1        I   \n52    1654607      2   20021000090  1.001100e+10         2        I   \n140   1654695      2   30021000090  1.001100e+10         3        I   \n416   1654971      2   40021000090  1.001100e+10         4        I   \n463   1655018      2   50021000090  1.001100e+10         5        I   \n486   1655041      2   60021000090  6.001100e+10         6       II   \n508   1655063      2   70021000090  6.001100e+10         7       II   \n596   1655151      2   80021000090  6.001100e+10         8       II   \n690   1655245      2   90021000090  6.001100e+10         9       II   \n752   1655307      2  100021000090  6.001100e+10        10       II   \n790   1655345      2  110021000090  6.001100e+10        11       II   \n829   1655384      2  120021000090  6.001100e+10        12       II   \n896   1655451      2  130021000090  6.001100e+10        13       II   \n912   1655467      2  140021000090  6.001100e+10        14       II   \n921   1655476      2  150021000090  1.500110e+11        15      III   \n993   1655548      2  160021000090  1.600110e+11        16       IV   \n1046  1655601      2  170021000090  1.600110e+11        17       IV   \n1071  1655626      2  180021000090  1.600110e+11        18       IV   \n1086  1655641      2  190021000090  1.600110e+11        19       IV   \n1112  1655667      2  200021000090  1.600110e+11        20       IV   \n\n                                    Description_complex  \\\n2                              CHAPTER 1 - LIVE ANIMALS   \n52               CHAPTER 2 - MEAT AND EDIBLE MEAT OFFAL   \n140   CHAPTER 3 - FISH AND CRUSTACEANS, MOLLUSCS AND...   \n416   CHAPTER 4 - DAIRY PRODUCE; BIRDS' EGGS; NATURA...   \n463   CHAPTER 5 - PRODUCTS OF ANIMAL ORIGIN, NOT ELS...   \n486   CHAPTER 6 - LIVE TREES AND OTHER PLANTS; BULBS...   \n508   CHAPTER 7 - EDIBLE VEGETABLES AND CERTAIN ROOT...   \n596   CHAPTER 8 - EDIBLE FRUIT AND NUTS; PEEL OF CIT...   \n690            CHAPTER 9 - COFFEE, TEA, MATÉ AND SPICES   \n752                                CHAPTER 10 - CEREALS   \n790   CHAPTER 11 - PRODUCTS OF THE MILLING INDUSTRY;...   \n829   CHAPTER 12 - OIL SEEDS AND OLEAGINOUS FRUITS; ...   \n896   CHAPTER 13 - LAC; GUMS, RESINS AND OTHER VEGET...   \n912   CHAPTER 14 - VEGETABLE PLAITING MATERIALS; VEG...   \n921   CHAPTER 15 - ANIMAL OR VEGETABLE FATS AND OILS...   \n993   CHAPTER 16 - PREPARATIONS OF MEAT, OF FISH OR ...   \n1046        CHAPTER 17 - SUGARS AND SUGAR CONFECTIONERY   \n1071          CHAPTER 18 - COCOA AND COCOA PREPARATIONS   \n1086  CHAPTER 19 - PREPARATIONS OF CEREALS, FLOUR, S...   \n1112  CHAPTER 20 - PREPARATIONS OF VEGETABLES, FRUIT...   \n\n                                            Description  \n2                                          LIVE ANIMALS  \n52                           MEAT AND EDIBLE MEAT OFFAL  \n140   FISH AND CRUSTACEANS, MOLLUSCS AND OTHER AQUAT...  \n416   DAIRY PRODUCE; BIRDS' EGGS; NATURAL HONEY; EDI...  \n463   PRODUCTS OF ANIMAL ORIGIN, NOT ELSEWHERE SPECI...  \n486   LIVE TREES AND OTHER PLANTS; BULBS, ROOTS AND ...  \n508      EDIBLE VEGETABLES AND CERTAIN ROOTS AND TUBERS  \n596   EDIBLE FRUIT AND NUTS; PEEL OF CITRUS FRUIT OR...  \n690                        COFFEE, TEA, MATÉ AND SPICES  \n752                                             CEREALS  \n790   PRODUCTS OF THE MILLING INDUSTRY; MALT; STARCH...  \n829   OIL SEEDS AND OLEAGINOUS FRUITS; MISCELLANEOUS...  \n896   LAC; GUMS, RESINS AND OTHER VEGETABLE SAPS AND...  \n912   VEGETABLE PLAITING MATERIALS; VEGETABLE PRODUC...  \n921   ANIMAL OR VEGETABLE FATS AND OILS AND THEIR CL...  \n993   PREPARATIONS OF MEAT, OF FISH OR OF CRUSTACEAN...  \n1046                     SUGARS AND SUGAR CONFECTIONERY  \n1071                       COCOA AND COCOA PREPARATIONS  \n1086  PREPARATIONS OF CEREALS, FLOUR, STARCH OR MILK...  \n1112  PREPARATIONS OF VEGETABLES, FRUIT, NUTS OR OTH...  ",
      "text/html": "<div>\n<style scoped>\n    .dataframe tbody tr th:only-of-type {\n        vertical-align: middle;\n    }\n\n    .dataframe tbody tr th {\n        vertical-align: top;\n    }\n\n    .dataframe thead th {\n        text-align: right;\n    }\n</style>\n<table border=\"1\" class=\"dataframe\">\n  <thead>\n    <tr style=\"text-align: right;\">\n      <th></th>\n      <th>Order</th>\n      <th>Level</th>\n      <th>Code</th>\n      <th>Parent</th>\n      <th>Code_comm</th>\n      <th>Parent.1</th>\n      <th>Description_complex</th>\n      <th>Description</th>\n    </tr>\n  </thead>\n  <tbody>\n    <tr>\n      <th>2</th>\n      <td>1654557</td>\n      <td>2</td>\n      <td>10021000090</td>\n      <td>1.001100e+10</td>\n      <td>1</td>\n      <td>I</td>\n      <td>CHAPTER 1 - LIVE ANIMALS</td>\n      <td>LIVE ANIMALS</td>\n    </tr>\n    <tr>\n      <th>52</th>\n      <td>1654607</td>\n      <td>2</td>\n      <td>20021000090</td>\n      <td>1.001100e+10</td>\n      <td>2</td>\n      <td>I</td>\n      <td>CHAPTER 2 - MEAT AND EDIBLE MEAT OFFAL</td>\n      <td>MEAT AND EDIBLE MEAT OFFAL</td>\n    </tr>\n    <tr>\n      <th>140</th>\n      <td>1654695</td>\n      <td>2</td>\n      <td>30021000090</td>\n      <td>1.001100e+10</td>\n      <td>3</td>\n      <td>I</td>\n      <td>CHAPTER 3 - FISH AND CRUSTACEANS, MOLLUSCS AND...</td>\n      <td>FISH AND CRUSTACEANS, MOLLUSCS AND OTHER AQUAT...</td>\n    </tr>\n    <tr>\n      <th>416</th>\n      <td>1654971</td>\n      <td>2</td>\n      <td>40021000090</td>\n      <td>1.001100e+10</td>\n      <td>4</td>\n      <td>I</td>\n      <td>CHAPTER 4 - DAIRY PRODUCE; BIRDS' EGGS; NATURA...</td>\n      <td>DAIRY PRODUCE; BIRDS' EGGS; NATURAL HONEY; EDI...</td>\n    </tr>\n    <tr>\n      <th>463</th>\n      <td>1655018</td>\n      <td>2</td>\n      <td>50021000090</td>\n      <td>1.001100e+10</td>\n      <td>5</td>\n      <td>I</td>\n      <td>CHAPTER 5 - PRODUCTS OF ANIMAL ORIGIN, NOT ELS...</td>\n      <td>PRODUCTS OF ANIMAL ORIGIN, NOT ELSEWHERE SPECI...</td>\n    </tr>\n    <tr>\n      <th>486</th>\n      <td>1655041</td>\n      <td>2</td>\n      <td>60021000090</td>\n      <td>6.001100e+10</td>\n      <td>6</td>\n      <td>II</td>\n      <td>CHAPTER 6 - LIVE TREES AND OTHER PLANTS; BULBS...</td>\n      <td>LIVE TREES AND OTHER PLANTS; BULBS, ROOTS AND ...</td>\n    </tr>\n    <tr>\n      <th>508</th>\n      <td>1655063</td>\n      <td>2</td>\n      <td>70021000090</td>\n      <td>6.001100e+10</td>\n      <td>7</td>\n      <td>II</td>\n      <td>CHAPTER 7 - EDIBLE VEGETABLES AND CERTAIN ROOT...</td>\n      <td>EDIBLE VEGETABLES AND CERTAIN ROOTS AND TUBERS</td>\n    </tr>\n    <tr>\n      <th>596</th>\n      <td>1655151</td>\n      <td>2</td>\n      <td>80021000090</td>\n      <td>6.001100e+10</td>\n      <td>8</td>\n      <td>II</td>\n      <td>CHAPTER 8 - EDIBLE FRUIT AND NUTS; PEEL OF CIT...</td>\n      <td>EDIBLE FRUIT AND NUTS; PEEL OF CITRUS FRUIT OR...</td>\n    </tr>\n    <tr>\n      <th>690</th>\n      <td>1655245</td>\n      <td>2</td>\n      <td>90021000090</td>\n      <td>6.001100e+10</td>\n      <td>9</td>\n      <td>II</td>\n      <td>CHAPTER 9 - COFFEE, TEA, MATÉ AND SPICES</td>\n      <td>COFFEE, TEA, MATÉ AND SPICES</td>\n    </tr>\n    <tr>\n      <th>752</th>\n      <td>1655307</td>\n      <td>2</td>\n      <td>100021000090</td>\n      <td>6.001100e+10</td>\n      <td>10</td>\n      <td>II</td>\n      <td>CHAPTER 10 - CEREALS</td>\n      <td>CEREALS</td>\n    </tr>\n    <tr>\n      <th>790</th>\n      <td>1655345</td>\n      <td>2</td>\n      <td>110021000090</td>\n      <td>6.001100e+10</td>\n      <td>11</td>\n      <td>II</td>\n      <td>CHAPTER 11 - PRODUCTS OF THE MILLING INDUSTRY;...</td>\n      <td>PRODUCTS OF THE MILLING INDUSTRY; MALT; STARCH...</td>\n    </tr>\n    <tr>\n      <th>829</th>\n      <td>1655384</td>\n      <td>2</td>\n      <td>120021000090</td>\n      <td>6.001100e+10</td>\n      <td>12</td>\n      <td>II</td>\n      <td>CHAPTER 12 - OIL SEEDS AND OLEAGINOUS FRUITS; ...</td>\n      <td>OIL SEEDS AND OLEAGINOUS FRUITS; MISCELLANEOUS...</td>\n    </tr>\n    <tr>\n      <th>896</th>\n      <td>1655451</td>\n      <td>2</td>\n      <td>130021000090</td>\n      <td>6.001100e+10</td>\n      <td>13</td>\n      <td>II</td>\n      <td>CHAPTER 13 - LAC; GUMS, RESINS AND OTHER VEGET...</td>\n      <td>LAC; GUMS, RESINS AND OTHER VEGETABLE SAPS AND...</td>\n    </tr>\n    <tr>\n      <th>912</th>\n      <td>1655467</td>\n      <td>2</td>\n      <td>140021000090</td>\n      <td>6.001100e+10</td>\n      <td>14</td>\n      <td>II</td>\n      <td>CHAPTER 14 - VEGETABLE PLAITING MATERIALS; VEG...</td>\n      <td>VEGETABLE PLAITING MATERIALS; VEGETABLE PRODUC...</td>\n    </tr>\n    <tr>\n      <th>921</th>\n      <td>1655476</td>\n      <td>2</td>\n      <td>150021000090</td>\n      <td>1.500110e+11</td>\n      <td>15</td>\n      <td>III</td>\n      <td>CHAPTER 15 - ANIMAL OR VEGETABLE FATS AND OILS...</td>\n      <td>ANIMAL OR VEGETABLE FATS AND OILS AND THEIR CL...</td>\n    </tr>\n    <tr>\n      <th>993</th>\n      <td>1655548</td>\n      <td>2</td>\n      <td>160021000090</td>\n      <td>1.600110e+11</td>\n      <td>16</td>\n      <td>IV</td>\n      <td>CHAPTER 16 - PREPARATIONS OF MEAT, OF FISH OR ...</td>\n      <td>PREPARATIONS OF MEAT, OF FISH OR OF CRUSTACEAN...</td>\n    </tr>\n    <tr>\n      <th>1046</th>\n      <td>1655601</td>\n      <td>2</td>\n      <td>170021000090</td>\n      <td>1.600110e+11</td>\n      <td>17</td>\n      <td>IV</td>\n      <td>CHAPTER 17 - SUGARS AND SUGAR CONFECTIONERY</td>\n      <td>SUGARS AND SUGAR CONFECTIONERY</td>\n    </tr>\n    <tr>\n      <th>1071</th>\n      <td>1655626</td>\n      <td>2</td>\n      <td>180021000090</td>\n      <td>1.600110e+11</td>\n      <td>18</td>\n      <td>IV</td>\n      <td>CHAPTER 18 - COCOA AND COCOA PREPARATIONS</td>\n      <td>COCOA AND COCOA PREPARATIONS</td>\n    </tr>\n    <tr>\n      <th>1086</th>\n      <td>1655641</td>\n      <td>2</td>\n      <td>190021000090</td>\n      <td>1.600110e+11</td>\n      <td>19</td>\n      <td>IV</td>\n      <td>CHAPTER 19 - PREPARATIONS OF CEREALS, FLOUR, S...</td>\n      <td>PREPARATIONS OF CEREALS, FLOUR, STARCH OR MILK...</td>\n    </tr>\n    <tr>\n      <th>1112</th>\n      <td>1655667</td>\n      <td>2</td>\n      <td>200021000090</td>\n      <td>1.600110e+11</td>\n      <td>20</td>\n      <td>IV</td>\n      <td>CHAPTER 20 - PREPARATIONS OF VEGETABLES, FRUIT...</td>\n      <td>PREPARATIONS OF VEGETABLES, FRUIT, NUTS OR OTH...</td>\n    </tr>\n  </tbody>\n</table>\n</div>"
     },
     "execution_count": 4,
     "metadata": {},
     "output_type": "execute_result"
    }
   ],
   "source": [
    "df_parents = df_codes[df_codes['Level']==2].copy()\n",
    "df_parents.head(20)"
   ],
   "metadata": {
    "collapsed": false,
    "ExecuteTime": {
     "end_time": "2023-12-06T16:48:40.800137500Z",
     "start_time": "2023-12-06T16:48:40.747143600Z"
    }
   }
  },
  {
   "cell_type": "markdown",
   "source": [
    "## Cleanning codes data set"
   ],
   "metadata": {
    "collapsed": false
   }
  },
  {
   "cell_type": "code",
   "execution_count": 5,
   "outputs": [],
   "source": [
    "df_codes = df_codes[df_codes['Code_comm'].notnull()]"
   ],
   "metadata": {
    "collapsed": false,
    "ExecuteTime": {
     "end_time": "2023-12-06T16:48:43.608677700Z",
     "start_time": "2023-12-06T16:48:43.584613300Z"
    }
   }
  },
  {
   "cell_type": "code",
   "execution_count": 7,
   "outputs": [],
   "source": [
    "def clean_code(text):\n",
    "    text = str(text)\n",
    "    parent_code = None\n",
    "    if len(text) == 11:\n",
    "        code = text[:5]\n",
    "        parent_code = text[:1]\n",
    "    else:\n",
    "        code = text[:6]\n",
    "        parent_code = text[:2]\n",
    "    try:\n",
    "        parent = df_parents[df_parents['Code_comm']==parent_code]['Description'].values[0]\n",
    "        \n",
    "    except:\n",
    "        parent = None\n",
    "        \n",
    "    return (code,parent)"
   ],
   "metadata": {
    "collapsed": false,
    "ExecuteTime": {
     "end_time": "2023-12-06T16:48:47.254396700Z",
     "start_time": "2023-12-06T16:48:47.220886700Z"
    }
   }
  },
  {
   "cell_type": "code",
   "execution_count": 8,
   "outputs": [
    {
     "data": {
      "text/plain": "     Order  Level         Code        Parent Code_comm Parent.1  \\\n1  1654556      1  10011000090           NaN         I      NaN   \n2  1654557      2  10021000090  1.001100e+10         1        I   \n3  1654558      3  10100000080  1.002100e+10      1.01        1   \n5  1654560      5  10121000080  1.012100e+10    101.21      NaN   \n6  1654561      5  10129000080  1.012100e+10    101.29      NaN   \n\n                         Description_complex  \\\n1  SECTION I - LIVE ANIMALS; ANIMAL PRODUCTS   \n2                   CHAPTER 1 - LIVE ANIMALS   \n3      Live horses, asses, mules and hinnies   \n5              -- Pure-bred breeding animals   \n6                                   -- Other   \n\n                                  Description clean_code parent_description  \n1               LIVE ANIMALS; ANIMAL PRODUCTS      10011       LIVE ANIMALS  \n2                                LIVE ANIMALS      10021       LIVE ANIMALS  \n3       Live horses, asses, mules and hinnies      10100       LIVE ANIMALS  \n5                   Pure-bred breeding horses      10121       LIVE ANIMALS  \n6  Live horses (excl. pure-bred for breeding)      10129       LIVE ANIMALS  ",
      "text/html": "<div>\n<style scoped>\n    .dataframe tbody tr th:only-of-type {\n        vertical-align: middle;\n    }\n\n    .dataframe tbody tr th {\n        vertical-align: top;\n    }\n\n    .dataframe thead th {\n        text-align: right;\n    }\n</style>\n<table border=\"1\" class=\"dataframe\">\n  <thead>\n    <tr style=\"text-align: right;\">\n      <th></th>\n      <th>Order</th>\n      <th>Level</th>\n      <th>Code</th>\n      <th>Parent</th>\n      <th>Code_comm</th>\n      <th>Parent.1</th>\n      <th>Description_complex</th>\n      <th>Description</th>\n      <th>clean_code</th>\n      <th>parent_description</th>\n    </tr>\n  </thead>\n  <tbody>\n    <tr>\n      <th>1</th>\n      <td>1654556</td>\n      <td>1</td>\n      <td>10011000090</td>\n      <td>NaN</td>\n      <td>I</td>\n      <td>NaN</td>\n      <td>SECTION I - LIVE ANIMALS; ANIMAL PRODUCTS</td>\n      <td>LIVE ANIMALS; ANIMAL PRODUCTS</td>\n      <td>10011</td>\n      <td>LIVE ANIMALS</td>\n    </tr>\n    <tr>\n      <th>2</th>\n      <td>1654557</td>\n      <td>2</td>\n      <td>10021000090</td>\n      <td>1.001100e+10</td>\n      <td>1</td>\n      <td>I</td>\n      <td>CHAPTER 1 - LIVE ANIMALS</td>\n      <td>LIVE ANIMALS</td>\n      <td>10021</td>\n      <td>LIVE ANIMALS</td>\n    </tr>\n    <tr>\n      <th>3</th>\n      <td>1654558</td>\n      <td>3</td>\n      <td>10100000080</td>\n      <td>1.002100e+10</td>\n      <td>1.01</td>\n      <td>1</td>\n      <td>Live horses, asses, mules and hinnies</td>\n      <td>Live horses, asses, mules and hinnies</td>\n      <td>10100</td>\n      <td>LIVE ANIMALS</td>\n    </tr>\n    <tr>\n      <th>5</th>\n      <td>1654560</td>\n      <td>5</td>\n      <td>10121000080</td>\n      <td>1.012100e+10</td>\n      <td>101.21</td>\n      <td>NaN</td>\n      <td>-- Pure-bred breeding animals</td>\n      <td>Pure-bred breeding horses</td>\n      <td>10121</td>\n      <td>LIVE ANIMALS</td>\n    </tr>\n    <tr>\n      <th>6</th>\n      <td>1654561</td>\n      <td>5</td>\n      <td>10129000080</td>\n      <td>1.012100e+10</td>\n      <td>101.29</td>\n      <td>NaN</td>\n      <td>-- Other</td>\n      <td>Live horses (excl. pure-bred for breeding)</td>\n      <td>10129</td>\n      <td>LIVE ANIMALS</td>\n    </tr>\n  </tbody>\n</table>\n</div>"
     },
     "execution_count": 8,
     "metadata": {},
     "output_type": "execute_result"
    }
   ],
   "source": [
    "df_codes[['clean_code','parent_description']] = df_codes.apply(lambda x: clean_code(x['Code']), axis=1, result_type='expand')\n",
    "df_codes.head()"
   ],
   "metadata": {
    "collapsed": false,
    "ExecuteTime": {
     "end_time": "2023-12-06T16:48:52.864666800Z",
     "start_time": "2023-12-06T16:48:50.341627700Z"
    }
   }
  },
  {
   "cell_type": "code",
   "execution_count": 9,
   "outputs": [
    {
     "data": {
      "text/plain": "     clean_code                                        Description  \\\n1         10011                      LIVE ANIMALS; ANIMAL PRODUCTS   \n2         10021                                       LIVE ANIMALS   \n3         10100              Live horses, asses, mules and hinnies   \n5         10121                          Pure-bred breeding horses   \n6         10129         Live horses (excl. pure-bred for breeding)   \n...         ...                                                ...   \n7432     970200        Original engravings, prints and lithographs   \n7433     970300  Original sculptures and statuary, in any material   \n7434     970400  Postage or revenue stamps, stamp-postmarks, fi...   \n7435     970500  Collections and collector's pieces of zoologic...   \n7436     970600                        Antiques of > 100 years old   \n\n                                 parent_description  \n1                                      LIVE ANIMALS  \n2                                      LIVE ANIMALS  \n3                                      LIVE ANIMALS  \n5                                      LIVE ANIMALS  \n6                                      LIVE ANIMALS  \n...                                             ...  \n7432  WORKS OF ART, COLLECTORS' PIECES AND ANTIQUES  \n7433  WORKS OF ART, COLLECTORS' PIECES AND ANTIQUES  \n7434  WORKS OF ART, COLLECTORS' PIECES AND ANTIQUES  \n7435  WORKS OF ART, COLLECTORS' PIECES AND ANTIQUES  \n7436  WORKS OF ART, COLLECTORS' PIECES AND ANTIQUES  \n\n[6446 rows x 3 columns]",
      "text/html": "<div>\n<style scoped>\n    .dataframe tbody tr th:only-of-type {\n        vertical-align: middle;\n    }\n\n    .dataframe tbody tr th {\n        vertical-align: top;\n    }\n\n    .dataframe thead th {\n        text-align: right;\n    }\n</style>\n<table border=\"1\" class=\"dataframe\">\n  <thead>\n    <tr style=\"text-align: right;\">\n      <th></th>\n      <th>clean_code</th>\n      <th>Description</th>\n      <th>parent_description</th>\n    </tr>\n  </thead>\n  <tbody>\n    <tr>\n      <th>1</th>\n      <td>10011</td>\n      <td>LIVE ANIMALS; ANIMAL PRODUCTS</td>\n      <td>LIVE ANIMALS</td>\n    </tr>\n    <tr>\n      <th>2</th>\n      <td>10021</td>\n      <td>LIVE ANIMALS</td>\n      <td>LIVE ANIMALS</td>\n    </tr>\n    <tr>\n      <th>3</th>\n      <td>10100</td>\n      <td>Live horses, asses, mules and hinnies</td>\n      <td>LIVE ANIMALS</td>\n    </tr>\n    <tr>\n      <th>5</th>\n      <td>10121</td>\n      <td>Pure-bred breeding horses</td>\n      <td>LIVE ANIMALS</td>\n    </tr>\n    <tr>\n      <th>6</th>\n      <td>10129</td>\n      <td>Live horses (excl. pure-bred for breeding)</td>\n      <td>LIVE ANIMALS</td>\n    </tr>\n    <tr>\n      <th>...</th>\n      <td>...</td>\n      <td>...</td>\n      <td>...</td>\n    </tr>\n    <tr>\n      <th>7432</th>\n      <td>970200</td>\n      <td>Original engravings, prints and lithographs</td>\n      <td>WORKS OF ART, COLLECTORS' PIECES AND ANTIQUES</td>\n    </tr>\n    <tr>\n      <th>7433</th>\n      <td>970300</td>\n      <td>Original sculptures and statuary, in any material</td>\n      <td>WORKS OF ART, COLLECTORS' PIECES AND ANTIQUES</td>\n    </tr>\n    <tr>\n      <th>7434</th>\n      <td>970400</td>\n      <td>Postage or revenue stamps, stamp-postmarks, fi...</td>\n      <td>WORKS OF ART, COLLECTORS' PIECES AND ANTIQUES</td>\n    </tr>\n    <tr>\n      <th>7435</th>\n      <td>970500</td>\n      <td>Collections and collector's pieces of zoologic...</td>\n      <td>WORKS OF ART, COLLECTORS' PIECES AND ANTIQUES</td>\n    </tr>\n    <tr>\n      <th>7436</th>\n      <td>970600</td>\n      <td>Antiques of &gt; 100 years old</td>\n      <td>WORKS OF ART, COLLECTORS' PIECES AND ANTIQUES</td>\n    </tr>\n  </tbody>\n</table>\n<p>6446 rows × 3 columns</p>\n</div>"
     },
     "execution_count": 9,
     "metadata": {},
     "output_type": "execute_result"
    }
   ],
   "source": [
    "df_codes= df_codes[df_codes['clean_code'].notnull()][['clean_code','Description','parent_description']]\n",
    "df_codes"
   ],
   "metadata": {
    "collapsed": false,
    "ExecuteTime": {
     "end_time": "2023-12-06T16:48:53.094815700Z",
     "start_time": "2023-12-06T16:48:52.995283100Z"
    }
   }
  },
  {
   "cell_type": "code",
   "execution_count": 10,
   "outputs": [
    {
     "data": {
      "text/plain": "      clean_code                                        Description  \\\n1          10011                      LIVE ANIMALS; ANIMAL PRODUCTS   \n2          10021                                       LIVE ANIMALS   \n3          10100              Live horses, asses, mules and hinnies   \n5          10121                          Pure-bred breeding horses   \n6          10129         Live horses (excl. pure-bred for breeding)   \n...          ...                                                ...   \n7432      970200        Original engravings, prints and lithographs   \n7433      970300  Original sculptures and statuary, in any material   \n7434      970400  Postage or revenue stamps, stamp-postmarks, fi...   \n7435      970500  Collections and collector's pieces of zoologic...   \n7436      970600                        Antiques of > 100 years old   \n\n                                 parent_description  id_code  \n1                                      LIVE ANIMALS        1  \n2                                      LIVE ANIMALS        2  \n3                                      LIVE ANIMALS        3  \n5                                      LIVE ANIMALS        5  \n6                                      LIVE ANIMALS        6  \n...                                             ...      ...  \n7432  WORKS OF ART, COLLECTORS' PIECES AND ANTIQUES     7432  \n7433  WORKS OF ART, COLLECTORS' PIECES AND ANTIQUES     7433  \n7434  WORKS OF ART, COLLECTORS' PIECES AND ANTIQUES     7434  \n7435  WORKS OF ART, COLLECTORS' PIECES AND ANTIQUES     7435  \n7436  WORKS OF ART, COLLECTORS' PIECES AND ANTIQUES     7436  \n\n[6446 rows x 4 columns]",
      "text/html": "<div>\n<style scoped>\n    .dataframe tbody tr th:only-of-type {\n        vertical-align: middle;\n    }\n\n    .dataframe tbody tr th {\n        vertical-align: top;\n    }\n\n    .dataframe thead th {\n        text-align: right;\n    }\n</style>\n<table border=\"1\" class=\"dataframe\">\n  <thead>\n    <tr style=\"text-align: right;\">\n      <th></th>\n      <th>clean_code</th>\n      <th>Description</th>\n      <th>parent_description</th>\n      <th>id_code</th>\n    </tr>\n  </thead>\n  <tbody>\n    <tr>\n      <th>1</th>\n      <td>10011</td>\n      <td>LIVE ANIMALS; ANIMAL PRODUCTS</td>\n      <td>LIVE ANIMALS</td>\n      <td>1</td>\n    </tr>\n    <tr>\n      <th>2</th>\n      <td>10021</td>\n      <td>LIVE ANIMALS</td>\n      <td>LIVE ANIMALS</td>\n      <td>2</td>\n    </tr>\n    <tr>\n      <th>3</th>\n      <td>10100</td>\n      <td>Live horses, asses, mules and hinnies</td>\n      <td>LIVE ANIMALS</td>\n      <td>3</td>\n    </tr>\n    <tr>\n      <th>5</th>\n      <td>10121</td>\n      <td>Pure-bred breeding horses</td>\n      <td>LIVE ANIMALS</td>\n      <td>5</td>\n    </tr>\n    <tr>\n      <th>6</th>\n      <td>10129</td>\n      <td>Live horses (excl. pure-bred for breeding)</td>\n      <td>LIVE ANIMALS</td>\n      <td>6</td>\n    </tr>\n    <tr>\n      <th>...</th>\n      <td>...</td>\n      <td>...</td>\n      <td>...</td>\n      <td>...</td>\n    </tr>\n    <tr>\n      <th>7432</th>\n      <td>970200</td>\n      <td>Original engravings, prints and lithographs</td>\n      <td>WORKS OF ART, COLLECTORS' PIECES AND ANTIQUES</td>\n      <td>7432</td>\n    </tr>\n    <tr>\n      <th>7433</th>\n      <td>970300</td>\n      <td>Original sculptures and statuary, in any material</td>\n      <td>WORKS OF ART, COLLECTORS' PIECES AND ANTIQUES</td>\n      <td>7433</td>\n    </tr>\n    <tr>\n      <th>7434</th>\n      <td>970400</td>\n      <td>Postage or revenue stamps, stamp-postmarks, fi...</td>\n      <td>WORKS OF ART, COLLECTORS' PIECES AND ANTIQUES</td>\n      <td>7434</td>\n    </tr>\n    <tr>\n      <th>7435</th>\n      <td>970500</td>\n      <td>Collections and collector's pieces of zoologic...</td>\n      <td>WORKS OF ART, COLLECTORS' PIECES AND ANTIQUES</td>\n      <td>7435</td>\n    </tr>\n    <tr>\n      <th>7436</th>\n      <td>970600</td>\n      <td>Antiques of &gt; 100 years old</td>\n      <td>WORKS OF ART, COLLECTORS' PIECES AND ANTIQUES</td>\n      <td>7436</td>\n    </tr>\n  </tbody>\n</table>\n<p>6446 rows × 4 columns</p>\n</div>"
     },
     "execution_count": 10,
     "metadata": {},
     "output_type": "execute_result"
    }
   ],
   "source": [
    "df_codes['id_code'] = df_codes.index\n",
    "df_codes['clean_code'] = df_codes['clean_code'].astype('int64')\n",
    "df_codes"
   ],
   "metadata": {
    "collapsed": false,
    "ExecuteTime": {
     "end_time": "2023-12-06T16:48:55.991770Z",
     "start_time": "2023-12-06T16:48:55.942772900Z"
    }
   }
  },
  {
   "cell_type": "markdown",
   "source": [
    "#### Cleanning countries data set"
   ],
   "metadata": {
    "collapsed": false,
    "pycharm": {
     "name": "#%% md\n"
    },
    "id": "2oSQLcOZi-Wl"
   }
  },
  {
   "cell_type": "code",
   "execution_count": 11,
   "outputs": [
    {
     "data": {
      "text/plain": "                                  country              images_file  \\\n0                             Afghanistan  Flag_of_Afghanistan.svg   \n1                                 Albania      Flag_of_Albania.svg   \n2                                 Algeria      Flag_of_Algeria.svg   \n3                                 Andorra      Flag_of_Andorra.svg   \n4                                  Angola       Flag_of_Angola.svg   \n..                                    ...                      ...   \n268  United States Minor Outlying Islands                     None   \n269              Virgin Islands (British)                     None   \n270                 Virgin Islands (U.S.)                     None   \n271                     Wallis and Futuna                     None   \n272                        Western Sahara                     None   \n\n                                             image_url alpha-2 alpha-3  \\\n0    https://upload.wikimedia.org/wikipedia/commons...      AF     AFG   \n1    https://upload.wikimedia.org/wikipedia/commons...      AL     ALB   \n2    https://upload.wikimedia.org/wikipedia/commons...      DZ     DZA   \n3    https://upload.wikimedia.org/wikipedia/commons...      AD     AND   \n4    https://upload.wikimedia.org/wikipedia/commons...      AO     AGO   \n..                                                 ...     ...     ...   \n268                                               None      UM     UMI   \n269                                               None      VG     VGB   \n270                                               None      VI     VIR   \n271                                               None      WF     WLF   \n272                                               None      EH     ESH   \n\n     country-code     iso_3166-2    region                       sub-region  \\\n0             4.0  ISO 3166-2:AF      Asia                    Southern Asia   \n1             8.0  ISO 3166-2:AL    Europe                  Southern Europe   \n2            12.0  ISO 3166-2:DZ    Africa                  Northern Africa   \n3            20.0  ISO 3166-2:AD    Europe                  Southern Europe   \n4            24.0  ISO 3166-2:AO    Africa               Sub-Saharan Africa   \n..            ...            ...       ...                              ...   \n268         581.0  ISO 3166-2:UM   Oceania                       Micronesia   \n269          92.0  ISO 3166-2:VG  Americas  Latin America and the Caribbean   \n270         850.0  ISO 3166-2:VI  Americas  Latin America and the Caribbean   \n271         876.0  ISO 3166-2:WF   Oceania                        Polynesia   \n272         732.0  ISO 3166-2:EH    Africa                  Northern Africa   \n\n    intermediate-region  region-code  sub-region-code  \\\n0                  None        142.0             34.0   \n1                  None        150.0             39.0   \n2                  None          2.0             15.0   \n3                  None        150.0             39.0   \n4         Middle Africa          2.0            202.0   \n..                  ...          ...              ...   \n268                None          9.0             57.0   \n269           Caribbean         19.0            419.0   \n270           Caribbean         19.0            419.0   \n271                None          9.0             61.0   \n272                None          2.0             15.0   \n\n     intermediate-region-code  \n0                         NaN  \n1                         NaN  \n2                         NaN  \n3                         NaN  \n4                        17.0  \n..                        ...  \n268                       NaN  \n269                      29.0  \n270                      29.0  \n271                       NaN  \n272                       NaN  \n\n[273 rows x 13 columns]",
      "text/html": "<div>\n<style scoped>\n    .dataframe tbody tr th:only-of-type {\n        vertical-align: middle;\n    }\n\n    .dataframe tbody tr th {\n        vertical-align: top;\n    }\n\n    .dataframe thead th {\n        text-align: right;\n    }\n</style>\n<table border=\"1\" class=\"dataframe\">\n  <thead>\n    <tr style=\"text-align: right;\">\n      <th></th>\n      <th>country</th>\n      <th>images_file</th>\n      <th>image_url</th>\n      <th>alpha-2</th>\n      <th>alpha-3</th>\n      <th>country-code</th>\n      <th>iso_3166-2</th>\n      <th>region</th>\n      <th>sub-region</th>\n      <th>intermediate-region</th>\n      <th>region-code</th>\n      <th>sub-region-code</th>\n      <th>intermediate-region-code</th>\n    </tr>\n  </thead>\n  <tbody>\n    <tr>\n      <th>0</th>\n      <td>Afghanistan</td>\n      <td>Flag_of_Afghanistan.svg</td>\n      <td>https://upload.wikimedia.org/wikipedia/commons...</td>\n      <td>AF</td>\n      <td>AFG</td>\n      <td>4.0</td>\n      <td>ISO 3166-2:AF</td>\n      <td>Asia</td>\n      <td>Southern Asia</td>\n      <td>None</td>\n      <td>142.0</td>\n      <td>34.0</td>\n      <td>NaN</td>\n    </tr>\n    <tr>\n      <th>1</th>\n      <td>Albania</td>\n      <td>Flag_of_Albania.svg</td>\n      <td>https://upload.wikimedia.org/wikipedia/commons...</td>\n      <td>AL</td>\n      <td>ALB</td>\n      <td>8.0</td>\n      <td>ISO 3166-2:AL</td>\n      <td>Europe</td>\n      <td>Southern Europe</td>\n      <td>None</td>\n      <td>150.0</td>\n      <td>39.0</td>\n      <td>NaN</td>\n    </tr>\n    <tr>\n      <th>2</th>\n      <td>Algeria</td>\n      <td>Flag_of_Algeria.svg</td>\n      <td>https://upload.wikimedia.org/wikipedia/commons...</td>\n      <td>DZ</td>\n      <td>DZA</td>\n      <td>12.0</td>\n      <td>ISO 3166-2:DZ</td>\n      <td>Africa</td>\n      <td>Northern Africa</td>\n      <td>None</td>\n      <td>2.0</td>\n      <td>15.0</td>\n      <td>NaN</td>\n    </tr>\n    <tr>\n      <th>3</th>\n      <td>Andorra</td>\n      <td>Flag_of_Andorra.svg</td>\n      <td>https://upload.wikimedia.org/wikipedia/commons...</td>\n      <td>AD</td>\n      <td>AND</td>\n      <td>20.0</td>\n      <td>ISO 3166-2:AD</td>\n      <td>Europe</td>\n      <td>Southern Europe</td>\n      <td>None</td>\n      <td>150.0</td>\n      <td>39.0</td>\n      <td>NaN</td>\n    </tr>\n    <tr>\n      <th>4</th>\n      <td>Angola</td>\n      <td>Flag_of_Angola.svg</td>\n      <td>https://upload.wikimedia.org/wikipedia/commons...</td>\n      <td>AO</td>\n      <td>AGO</td>\n      <td>24.0</td>\n      <td>ISO 3166-2:AO</td>\n      <td>Africa</td>\n      <td>Sub-Saharan Africa</td>\n      <td>Middle Africa</td>\n      <td>2.0</td>\n      <td>202.0</td>\n      <td>17.0</td>\n    </tr>\n    <tr>\n      <th>...</th>\n      <td>...</td>\n      <td>...</td>\n      <td>...</td>\n      <td>...</td>\n      <td>...</td>\n      <td>...</td>\n      <td>...</td>\n      <td>...</td>\n      <td>...</td>\n      <td>...</td>\n      <td>...</td>\n      <td>...</td>\n      <td>...</td>\n    </tr>\n    <tr>\n      <th>268</th>\n      <td>United States Minor Outlying Islands</td>\n      <td>None</td>\n      <td>None</td>\n      <td>UM</td>\n      <td>UMI</td>\n      <td>581.0</td>\n      <td>ISO 3166-2:UM</td>\n      <td>Oceania</td>\n      <td>Micronesia</td>\n      <td>None</td>\n      <td>9.0</td>\n      <td>57.0</td>\n      <td>NaN</td>\n    </tr>\n    <tr>\n      <th>269</th>\n      <td>Virgin Islands (British)</td>\n      <td>None</td>\n      <td>None</td>\n      <td>VG</td>\n      <td>VGB</td>\n      <td>92.0</td>\n      <td>ISO 3166-2:VG</td>\n      <td>Americas</td>\n      <td>Latin America and the Caribbean</td>\n      <td>Caribbean</td>\n      <td>19.0</td>\n      <td>419.0</td>\n      <td>29.0</td>\n    </tr>\n    <tr>\n      <th>270</th>\n      <td>Virgin Islands (U.S.)</td>\n      <td>None</td>\n      <td>None</td>\n      <td>VI</td>\n      <td>VIR</td>\n      <td>850.0</td>\n      <td>ISO 3166-2:VI</td>\n      <td>Americas</td>\n      <td>Latin America and the Caribbean</td>\n      <td>Caribbean</td>\n      <td>19.0</td>\n      <td>419.0</td>\n      <td>29.0</td>\n    </tr>\n    <tr>\n      <th>271</th>\n      <td>Wallis and Futuna</td>\n      <td>None</td>\n      <td>None</td>\n      <td>WF</td>\n      <td>WLF</td>\n      <td>876.0</td>\n      <td>ISO 3166-2:WF</td>\n      <td>Oceania</td>\n      <td>Polynesia</td>\n      <td>None</td>\n      <td>9.0</td>\n      <td>61.0</td>\n      <td>NaN</td>\n    </tr>\n    <tr>\n      <th>272</th>\n      <td>Western Sahara</td>\n      <td>None</td>\n      <td>None</td>\n      <td>EH</td>\n      <td>ESH</td>\n      <td>732.0</td>\n      <td>ISO 3166-2:EH</td>\n      <td>Africa</td>\n      <td>Northern Africa</td>\n      <td>None</td>\n      <td>2.0</td>\n      <td>15.0</td>\n      <td>NaN</td>\n    </tr>\n  </tbody>\n</table>\n<p>273 rows × 13 columns</p>\n</div>"
     },
     "execution_count": 11,
     "metadata": {},
     "output_type": "execute_result"
    }
   ],
   "source": [
    "df_countries"
   ],
   "metadata": {
    "pycharm": {
     "name": "#%%\n"
    },
    "id": "ZXQuUAAfi-Wl",
    "ExecuteTime": {
     "end_time": "2023-12-06T16:48:58.591113700Z",
     "start_time": "2023-12-06T16:48:58.550110300Z"
    }
   }
  },
  {
   "cell_type": "code",
   "execution_count": 12,
   "outputs": [
    {
     "data": {
      "text/plain": "    alpha-3                               country    region  \\\n0       AFG                           Afghanistan      Asia   \n1       ALB                               Albania    Europe   \n2       DZA                               Algeria    Africa   \n3       AND                               Andorra    Europe   \n4       AGO                                Angola    Africa   \n..      ...                                   ...       ...   \n268     UMI  United States Minor Outlying Islands   Oceania   \n269     VGB              Virgin Islands (British)  Americas   \n270     VIR                 Virgin Islands (U.S.)  Americas   \n271     WLF                     Wallis and Futuna   Oceania   \n272     ESH                        Western Sahara    Africa   \n\n                          sub-region  id_country  \n0                      Southern Asia           1  \n1                    Southern Europe           2  \n2                    Northern Africa           3  \n3                    Southern Europe           4  \n4                 Sub-Saharan Africa           5  \n..                               ...         ...  \n268                       Micronesia         269  \n269  Latin America and the Caribbean         270  \n270  Latin America and the Caribbean         271  \n271                        Polynesia         272  \n272                  Northern Africa         273  \n\n[249 rows x 5 columns]",
      "text/html": "<div>\n<style scoped>\n    .dataframe tbody tr th:only-of-type {\n        vertical-align: middle;\n    }\n\n    .dataframe tbody tr th {\n        vertical-align: top;\n    }\n\n    .dataframe thead th {\n        text-align: right;\n    }\n</style>\n<table border=\"1\" class=\"dataframe\">\n  <thead>\n    <tr style=\"text-align: right;\">\n      <th></th>\n      <th>alpha-3</th>\n      <th>country</th>\n      <th>region</th>\n      <th>sub-region</th>\n      <th>id_country</th>\n    </tr>\n  </thead>\n  <tbody>\n    <tr>\n      <th>0</th>\n      <td>AFG</td>\n      <td>Afghanistan</td>\n      <td>Asia</td>\n      <td>Southern Asia</td>\n      <td>1</td>\n    </tr>\n    <tr>\n      <th>1</th>\n      <td>ALB</td>\n      <td>Albania</td>\n      <td>Europe</td>\n      <td>Southern Europe</td>\n      <td>2</td>\n    </tr>\n    <tr>\n      <th>2</th>\n      <td>DZA</td>\n      <td>Algeria</td>\n      <td>Africa</td>\n      <td>Northern Africa</td>\n      <td>3</td>\n    </tr>\n    <tr>\n      <th>3</th>\n      <td>AND</td>\n      <td>Andorra</td>\n      <td>Europe</td>\n      <td>Southern Europe</td>\n      <td>4</td>\n    </tr>\n    <tr>\n      <th>4</th>\n      <td>AGO</td>\n      <td>Angola</td>\n      <td>Africa</td>\n      <td>Sub-Saharan Africa</td>\n      <td>5</td>\n    </tr>\n    <tr>\n      <th>...</th>\n      <td>...</td>\n      <td>...</td>\n      <td>...</td>\n      <td>...</td>\n      <td>...</td>\n    </tr>\n    <tr>\n      <th>268</th>\n      <td>UMI</td>\n      <td>United States Minor Outlying Islands</td>\n      <td>Oceania</td>\n      <td>Micronesia</td>\n      <td>269</td>\n    </tr>\n    <tr>\n      <th>269</th>\n      <td>VGB</td>\n      <td>Virgin Islands (British)</td>\n      <td>Americas</td>\n      <td>Latin America and the Caribbean</td>\n      <td>270</td>\n    </tr>\n    <tr>\n      <th>270</th>\n      <td>VIR</td>\n      <td>Virgin Islands (U.S.)</td>\n      <td>Americas</td>\n      <td>Latin America and the Caribbean</td>\n      <td>271</td>\n    </tr>\n    <tr>\n      <th>271</th>\n      <td>WLF</td>\n      <td>Wallis and Futuna</td>\n      <td>Oceania</td>\n      <td>Polynesia</td>\n      <td>272</td>\n    </tr>\n    <tr>\n      <th>272</th>\n      <td>ESH</td>\n      <td>Western Sahara</td>\n      <td>Africa</td>\n      <td>Northern Africa</td>\n      <td>273</td>\n    </tr>\n  </tbody>\n</table>\n<p>249 rows × 5 columns</p>\n</div>"
     },
     "execution_count": 12,
     "metadata": {},
     "output_type": "execute_result"
    }
   ],
   "source": [
    "#df_countries = df_countries[['alpha-3','country','region','sub-region']]\n",
    "#df_countries = df_countries[df_countries['alpha-3'].notnull()]\n",
    "df_countries = df_countries[df_countries['alpha-3'].notnull()][['alpha-3','country','region','sub-region']]\n",
    "df_countries['id_country'] = df_countries.index + 1\n",
    "df_countries"
   ],
   "metadata": {
    "pycharm": {
     "name": "#%%\n"
    },
    "id": "M0rPc6x-i-Wm",
    "ExecuteTime": {
     "end_time": "2023-12-06T16:49:04.138389300Z",
     "start_time": "2023-12-06T16:49:04.109311800Z"
    }
   }
  },
  {
   "cell_type": "markdown",
   "source": [
    "### Merge"
   ],
   "metadata": {
    "collapsed": false,
    "pycharm": {
     "name": "#%% md\n"
    },
    "id": "cWScEcGgi-Wn"
   }
  },
  {
   "cell_type": "code",
   "execution_count": 13,
   "outputs": [],
   "source": [
    "df_trades = trades_generator.copy()"
   ],
   "metadata": {
    "pycharm": {
     "name": "#%%\n"
    },
    "id": "ajZjpZBPi-Wn",
    "ExecuteTime": {
     "end_time": "2023-12-06T16:49:23.883468100Z",
     "start_time": "2023-12-06T16:49:06.828231400Z"
    }
   }
  },
  {
   "cell_type": "code",
   "execution_count": 14,
   "outputs": [],
   "source": [
    "df_trades_clean = df_trades.merge(df_codes[['clean_code','id_code']], how = 'left', left_on = 'comm_code', right_on = 'clean_code')"
   ],
   "metadata": {
    "pycharm": {
     "name": "#%%\n"
    },
    "id": "5urH1F55i-Wn",
    "ExecuteTime": {
     "end_time": "2023-12-06T16:49:29.348319400Z",
     "start_time": "2023-12-06T16:49:23.952487200Z"
    }
   }
  },
  {
   "cell_type": "code",
   "execution_count": 15,
   "outputs": [],
   "source": [
    "#df_trades_clean = df_trades_clean.merge(df_countries[['alpha-3','id_country']],how = 'left', left_on = 'country_code', right_on = 'alpha-3')\n",
    "#I use the next way to merge, it allow the computer to manage in a better way the memory allocation.\n",
    "\n",
    "df_trades_clean = pd.merge(df_trades_clean, df_countries[['alpha-3','id_country']], how='left', left_on='country_code', right_on='alpha-3')"
   ],
   "metadata": {
    "collapsed": false,
    "ExecuteTime": {
     "end_time": "2023-12-06T16:49:32.979924500Z",
     "start_time": "2023-12-06T16:49:29.813786800Z"
    }
   }
  },
  {
   "cell_type": "code",
   "execution_count": 16,
   "outputs": [
    {
     "data": {
      "text/plain": "  country_code  year  comm_code       flow  trade_usd   kg  quantity  \\\n0          SYC  1998     890200     Import  1431426.0  0.0   23000.0   \n1          SYC  1998     890310     Import    31406.0  0.0    2545.0   \n2          SYC  1998     890310     Export      950.0  0.0     300.0   \n3          SYC  1998     890310  Re-Export      950.0  0.0     300.0   \n4          SYC  1998     890391     Import    18251.0  0.0     450.0   \n\n     quantity_name  clean_code  id_code alpha-3  id_country  \n0  Number of items      890200     6928     SYC         155  \n1  Number of items      890310     6930     SYC         155  \n2  Number of items      890310     6930     SYC         155  \n3  Number of items      890310     6930     SYC         155  \n4  Number of items      890391     6932     SYC         155  ",
      "text/html": "<div>\n<style scoped>\n    .dataframe tbody tr th:only-of-type {\n        vertical-align: middle;\n    }\n\n    .dataframe tbody tr th {\n        vertical-align: top;\n    }\n\n    .dataframe thead th {\n        text-align: right;\n    }\n</style>\n<table border=\"1\" class=\"dataframe\">\n  <thead>\n    <tr style=\"text-align: right;\">\n      <th></th>\n      <th>country_code</th>\n      <th>year</th>\n      <th>comm_code</th>\n      <th>flow</th>\n      <th>trade_usd</th>\n      <th>kg</th>\n      <th>quantity</th>\n      <th>quantity_name</th>\n      <th>clean_code</th>\n      <th>id_code</th>\n      <th>alpha-3</th>\n      <th>id_country</th>\n    </tr>\n  </thead>\n  <tbody>\n    <tr>\n      <th>0</th>\n      <td>SYC</td>\n      <td>1998</td>\n      <td>890200</td>\n      <td>Import</td>\n      <td>1431426.0</td>\n      <td>0.0</td>\n      <td>23000.0</td>\n      <td>Number of items</td>\n      <td>890200</td>\n      <td>6928</td>\n      <td>SYC</td>\n      <td>155</td>\n    </tr>\n    <tr>\n      <th>1</th>\n      <td>SYC</td>\n      <td>1998</td>\n      <td>890310</td>\n      <td>Import</td>\n      <td>31406.0</td>\n      <td>0.0</td>\n      <td>2545.0</td>\n      <td>Number of items</td>\n      <td>890310</td>\n      <td>6930</td>\n      <td>SYC</td>\n      <td>155</td>\n    </tr>\n    <tr>\n      <th>2</th>\n      <td>SYC</td>\n      <td>1998</td>\n      <td>890310</td>\n      <td>Export</td>\n      <td>950.0</td>\n      <td>0.0</td>\n      <td>300.0</td>\n      <td>Number of items</td>\n      <td>890310</td>\n      <td>6930</td>\n      <td>SYC</td>\n      <td>155</td>\n    </tr>\n    <tr>\n      <th>3</th>\n      <td>SYC</td>\n      <td>1998</td>\n      <td>890310</td>\n      <td>Re-Export</td>\n      <td>950.0</td>\n      <td>0.0</td>\n      <td>300.0</td>\n      <td>Number of items</td>\n      <td>890310</td>\n      <td>6930</td>\n      <td>SYC</td>\n      <td>155</td>\n    </tr>\n    <tr>\n      <th>4</th>\n      <td>SYC</td>\n      <td>1998</td>\n      <td>890391</td>\n      <td>Import</td>\n      <td>18251.0</td>\n      <td>0.0</td>\n      <td>450.0</td>\n      <td>Number of items</td>\n      <td>890391</td>\n      <td>6932</td>\n      <td>SYC</td>\n      <td>155</td>\n    </tr>\n  </tbody>\n</table>\n</div>"
     },
     "execution_count": 16,
     "metadata": {},
     "output_type": "execute_result"
    }
   ],
   "source": [
    "df_trades_clean.head()"
   ],
   "metadata": {
    "collapsed": false,
    "ExecuteTime": {
     "end_time": "2023-12-06T16:49:33.045921400Z",
     "start_time": "2023-12-06T16:49:33.007924300Z"
    }
   }
  },
  {
   "cell_type": "code",
   "execution_count": 17,
   "outputs": [],
   "source": [
    "def  create_dimensions(data, id_name):\n",
    "    list_keys = []\n",
    "    value = 1\n",
    "    for x in data:\n",
    "        list_keys.append(value)\n",
    "        value += 1       \n",
    "    return pd.DataFrame({ id_name: list_keys ,'values' : data})\n",
    "#df_trades_clean.head()"
   ],
   "metadata": {
    "collapsed": false,
    "ExecuteTime": {
     "end_time": "2023-12-06T16:49:33.059930400Z",
     "start_time": "2023-12-06T16:49:33.049925400Z"
    }
   }
  },
  {
   "cell_type": "code",
   "execution_count": 18,
   "outputs": [],
   "source": [
    "df_year = create_dimensions( df_trades_clean['year'].unique(),'id_year')\n",
    "df_flow = create_dimensions( df_trades_clean['flow'].unique(),'id_flow')\n",
    "df_quantity = create_dimensions( df_trades_clean['quantity_name'].unique(),'id_quantity_name')\n",
    "\n",
    "df_trades_clean = df_trades_clean.merge(df_year, how = 'left', left_on = 'year', right_on= 'values')\n",
    "df_trades_clean = df_trades_clean.merge(df_flow, how = 'left', left_on = 'flow', right_on= 'values')\n",
    "df_trades_clean = df_trades_clean.merge(df_quantity, how = 'left', left_on = 'quantity_name', right_on= 'values')"
   ],
   "metadata": {
    "collapsed": false,
    "ExecuteTime": {
     "end_time": "2023-12-06T16:49:44.508663900Z",
     "start_time": "2023-12-06T16:49:33.068930900Z"
    }
   }
  },
  {
   "cell_type": "code",
   "execution_count": 19,
   "outputs": [
    {
     "data": {
      "text/plain": "  country_code  year  comm_code       flow  trade_usd   kg  quantity  \\\n0          SYC  1998     890200     Import  1431426.0  0.0   23000.0   \n1          SYC  1998     890310     Import    31406.0  0.0    2545.0   \n2          SYC  1998     890310     Export      950.0  0.0     300.0   \n3          SYC  1998     890310  Re-Export      950.0  0.0     300.0   \n4          SYC  1998     890391     Import    18251.0  0.0     450.0   \n\n     quantity_name  clean_code  id_code alpha-3  id_country  id_year  \\\n0  Number of items      890200     6928     SYC         155        1   \n1  Number of items      890310     6930     SYC         155        1   \n2  Number of items      890310     6930     SYC         155        1   \n3  Number of items      890310     6930     SYC         155        1   \n4  Number of items      890391     6932     SYC         155        1   \n\n   values_x  id_flow   values_y  id_quantity_name           values  \n0      1998        1     Import                 1  Number of items  \n1      1998        1     Import                 1  Number of items  \n2      1998        2     Export                 1  Number of items  \n3      1998        3  Re-Export                 1  Number of items  \n4      1998        1     Import                 1  Number of items  ",
      "text/html": "<div>\n<style scoped>\n    .dataframe tbody tr th:only-of-type {\n        vertical-align: middle;\n    }\n\n    .dataframe tbody tr th {\n        vertical-align: top;\n    }\n\n    .dataframe thead th {\n        text-align: right;\n    }\n</style>\n<table border=\"1\" class=\"dataframe\">\n  <thead>\n    <tr style=\"text-align: right;\">\n      <th></th>\n      <th>country_code</th>\n      <th>year</th>\n      <th>comm_code</th>\n      <th>flow</th>\n      <th>trade_usd</th>\n      <th>kg</th>\n      <th>quantity</th>\n      <th>quantity_name</th>\n      <th>clean_code</th>\n      <th>id_code</th>\n      <th>alpha-3</th>\n      <th>id_country</th>\n      <th>id_year</th>\n      <th>values_x</th>\n      <th>id_flow</th>\n      <th>values_y</th>\n      <th>id_quantity_name</th>\n      <th>values</th>\n    </tr>\n  </thead>\n  <tbody>\n    <tr>\n      <th>0</th>\n      <td>SYC</td>\n      <td>1998</td>\n      <td>890200</td>\n      <td>Import</td>\n      <td>1431426.0</td>\n      <td>0.0</td>\n      <td>23000.0</td>\n      <td>Number of items</td>\n      <td>890200</td>\n      <td>6928</td>\n      <td>SYC</td>\n      <td>155</td>\n      <td>1</td>\n      <td>1998</td>\n      <td>1</td>\n      <td>Import</td>\n      <td>1</td>\n      <td>Number of items</td>\n    </tr>\n    <tr>\n      <th>1</th>\n      <td>SYC</td>\n      <td>1998</td>\n      <td>890310</td>\n      <td>Import</td>\n      <td>31406.0</td>\n      <td>0.0</td>\n      <td>2545.0</td>\n      <td>Number of items</td>\n      <td>890310</td>\n      <td>6930</td>\n      <td>SYC</td>\n      <td>155</td>\n      <td>1</td>\n      <td>1998</td>\n      <td>1</td>\n      <td>Import</td>\n      <td>1</td>\n      <td>Number of items</td>\n    </tr>\n    <tr>\n      <th>2</th>\n      <td>SYC</td>\n      <td>1998</td>\n      <td>890310</td>\n      <td>Export</td>\n      <td>950.0</td>\n      <td>0.0</td>\n      <td>300.0</td>\n      <td>Number of items</td>\n      <td>890310</td>\n      <td>6930</td>\n      <td>SYC</td>\n      <td>155</td>\n      <td>1</td>\n      <td>1998</td>\n      <td>2</td>\n      <td>Export</td>\n      <td>1</td>\n      <td>Number of items</td>\n    </tr>\n    <tr>\n      <th>3</th>\n      <td>SYC</td>\n      <td>1998</td>\n      <td>890310</td>\n      <td>Re-Export</td>\n      <td>950.0</td>\n      <td>0.0</td>\n      <td>300.0</td>\n      <td>Number of items</td>\n      <td>890310</td>\n      <td>6930</td>\n      <td>SYC</td>\n      <td>155</td>\n      <td>1</td>\n      <td>1998</td>\n      <td>3</td>\n      <td>Re-Export</td>\n      <td>1</td>\n      <td>Number of items</td>\n    </tr>\n    <tr>\n      <th>4</th>\n      <td>SYC</td>\n      <td>1998</td>\n      <td>890391</td>\n      <td>Import</td>\n      <td>18251.0</td>\n      <td>0.0</td>\n      <td>450.0</td>\n      <td>Number of items</td>\n      <td>890391</td>\n      <td>6932</td>\n      <td>SYC</td>\n      <td>155</td>\n      <td>1</td>\n      <td>1998</td>\n      <td>1</td>\n      <td>Import</td>\n      <td>1</td>\n      <td>Number of items</td>\n    </tr>\n  </tbody>\n</table>\n</div>"
     },
     "execution_count": 19,
     "metadata": {},
     "output_type": "execute_result"
    }
   ],
   "source": [
    "df_trades_clean.head()"
   ],
   "metadata": {
    "collapsed": false,
    "ExecuteTime": {
     "end_time": "2023-12-06T16:49:44.581233800Z",
     "start_time": "2023-12-06T16:49:44.513666300Z"
    }
   }
  },
  {
   "cell_type": "code",
   "execution_count": 20,
   "outputs": [],
   "source": [
    "df_trades_clean['id_trades'] = df_trades_clean.index  + 1\n",
    "df_trades_final = df_trades_clean[['id_trades','trade_usd','kg','quantity','id_code','id_country','id_quantity_name','id_flow', 'id_year']].copy()"
   ],
   "metadata": {
    "collapsed": false,
    "ExecuteTime": {
     "end_time": "2023-12-06T16:49:49.474887500Z",
     "start_time": "2023-12-06T16:49:44.576709500Z"
    }
   }
  },
  {
   "cell_type": "code",
   "execution_count": 21,
   "outputs": [
    {
     "data": {
      "text/plain": "   id_trades  trade_usd   kg  quantity  id_code  id_country  id_quantity_name  \\\n0          1  1431426.0  0.0   23000.0     6928         155                 1   \n1          2    31406.0  0.0    2545.0     6930         155                 1   \n2          3      950.0  0.0     300.0     6930         155                 1   \n3          4      950.0  0.0     300.0     6930         155                 1   \n4          5    18251.0  0.0     450.0     6932         155                 1   \n\n   id_flow  id_year  \n0        1        1  \n1        1        1  \n2        2        1  \n3        3        1  \n4        1        1  ",
      "text/html": "<div>\n<style scoped>\n    .dataframe tbody tr th:only-of-type {\n        vertical-align: middle;\n    }\n\n    .dataframe tbody tr th {\n        vertical-align: top;\n    }\n\n    .dataframe thead th {\n        text-align: right;\n    }\n</style>\n<table border=\"1\" class=\"dataframe\">\n  <thead>\n    <tr style=\"text-align: right;\">\n      <th></th>\n      <th>id_trades</th>\n      <th>trade_usd</th>\n      <th>kg</th>\n      <th>quantity</th>\n      <th>id_code</th>\n      <th>id_country</th>\n      <th>id_quantity_name</th>\n      <th>id_flow</th>\n      <th>id_year</th>\n    </tr>\n  </thead>\n  <tbody>\n    <tr>\n      <th>0</th>\n      <td>1</td>\n      <td>1431426.0</td>\n      <td>0.0</td>\n      <td>23000.0</td>\n      <td>6928</td>\n      <td>155</td>\n      <td>1</td>\n      <td>1</td>\n      <td>1</td>\n    </tr>\n    <tr>\n      <th>1</th>\n      <td>2</td>\n      <td>31406.0</td>\n      <td>0.0</td>\n      <td>2545.0</td>\n      <td>6930</td>\n      <td>155</td>\n      <td>1</td>\n      <td>1</td>\n      <td>1</td>\n    </tr>\n    <tr>\n      <th>2</th>\n      <td>3</td>\n      <td>950.0</td>\n      <td>0.0</td>\n      <td>300.0</td>\n      <td>6930</td>\n      <td>155</td>\n      <td>1</td>\n      <td>2</td>\n      <td>1</td>\n    </tr>\n    <tr>\n      <th>3</th>\n      <td>4</td>\n      <td>950.0</td>\n      <td>0.0</td>\n      <td>300.0</td>\n      <td>6930</td>\n      <td>155</td>\n      <td>1</td>\n      <td>3</td>\n      <td>1</td>\n    </tr>\n    <tr>\n      <th>4</th>\n      <td>5</td>\n      <td>18251.0</td>\n      <td>0.0</td>\n      <td>450.0</td>\n      <td>6932</td>\n      <td>155</td>\n      <td>1</td>\n      <td>1</td>\n      <td>1</td>\n    </tr>\n  </tbody>\n</table>\n</div>"
     },
     "execution_count": 21,
     "metadata": {},
     "output_type": "execute_result"
    }
   ],
   "source": [
    "df_trades_final.head()"
   ],
   "metadata": {
    "collapsed": false,
    "ExecuteTime": {
     "end_time": "2023-12-06T16:49:49.632171700Z",
     "start_time": "2023-12-06T16:49:49.496397400Z"
    }
   }
  },
  {
   "cell_type": "code",
   "execution_count": 22,
   "outputs": [],
   "source": [
    "df_countries = df_countries[['id_country','alpha-3','country','region','sub-region']]\n",
    "df_codes = df_codes[['id_code','clean_code','Description']]"
   ],
   "metadata": {
    "collapsed": false,
    "ExecuteTime": {
     "end_time": "2023-12-06T16:49:49.781241200Z",
     "start_time": "2023-12-06T16:49:49.631500100Z"
    }
   }
  },
  {
   "cell_type": "code",
   "execution_count": 23,
   "outputs": [
    {
     "data": {
      "text/plain": "    id_code  clean_code                                 Description\n1         1       10011               LIVE ANIMALS; ANIMAL PRODUCTS\n2         2       10021                                LIVE ANIMALS\n3         3       10100       Live horses, asses, mules and hinnies\n5         5       10121                   Pure-bred breeding horses\n6         6       10129  Live horses (excl. pure-bred for breeding)\n7         7       10130                                  Live asses\n8         8       10190                      Live mules and hinnies\n9         9       10200                         Live bovine animals\n11       11       10221               Pure-bred cattle for breeding\n12       12       10229  Live cattle (excl. pure-bred for breeding)",
      "text/html": "<div>\n<style scoped>\n    .dataframe tbody tr th:only-of-type {\n        vertical-align: middle;\n    }\n\n    .dataframe tbody tr th {\n        vertical-align: top;\n    }\n\n    .dataframe thead th {\n        text-align: right;\n    }\n</style>\n<table border=\"1\" class=\"dataframe\">\n  <thead>\n    <tr style=\"text-align: right;\">\n      <th></th>\n      <th>id_code</th>\n      <th>clean_code</th>\n      <th>Description</th>\n    </tr>\n  </thead>\n  <tbody>\n    <tr>\n      <th>1</th>\n      <td>1</td>\n      <td>10011</td>\n      <td>LIVE ANIMALS; ANIMAL PRODUCTS</td>\n    </tr>\n    <tr>\n      <th>2</th>\n      <td>2</td>\n      <td>10021</td>\n      <td>LIVE ANIMALS</td>\n    </tr>\n    <tr>\n      <th>3</th>\n      <td>3</td>\n      <td>10100</td>\n      <td>Live horses, asses, mules and hinnies</td>\n    </tr>\n    <tr>\n      <th>5</th>\n      <td>5</td>\n      <td>10121</td>\n      <td>Pure-bred breeding horses</td>\n    </tr>\n    <tr>\n      <th>6</th>\n      <td>6</td>\n      <td>10129</td>\n      <td>Live horses (excl. pure-bred for breeding)</td>\n    </tr>\n    <tr>\n      <th>7</th>\n      <td>7</td>\n      <td>10130</td>\n      <td>Live asses</td>\n    </tr>\n    <tr>\n      <th>8</th>\n      <td>8</td>\n      <td>10190</td>\n      <td>Live mules and hinnies</td>\n    </tr>\n    <tr>\n      <th>9</th>\n      <td>9</td>\n      <td>10200</td>\n      <td>Live bovine animals</td>\n    </tr>\n    <tr>\n      <th>11</th>\n      <td>11</td>\n      <td>10221</td>\n      <td>Pure-bred cattle for breeding</td>\n    </tr>\n    <tr>\n      <th>12</th>\n      <td>12</td>\n      <td>10229</td>\n      <td>Live cattle (excl. pure-bred for breeding)</td>\n    </tr>\n  </tbody>\n</table>\n</div>"
     },
     "execution_count": 23,
     "metadata": {},
     "output_type": "execute_result"
    }
   ],
   "source": [
    "df_codes.head(10)"
   ],
   "metadata": {
    "collapsed": false,
    "ExecuteTime": {
     "end_time": "2023-12-06T16:49:49.954745300Z",
     "start_time": "2023-12-06T16:49:49.693234900Z"
    }
   }
  },
  {
   "cell_type": "markdown",
   "source": [
    "### Clean trades"
   ],
   "metadata": {
    "collapsed": false,
    "pycharm": {
     "name": "#%% md\n"
    },
    "id": "YVNqH6epi-Wo"
   }
  },
  {
   "cell_type": "code",
   "execution_count": null,
   "outputs": [],
   "source": [
    "\n"
   ],
   "metadata": {
    "pycharm": {
     "name": "#%%\n"
    },
    "id": "948JzVUSi-Wo",
    "is_executing": true
   }
  },
  {
   "cell_type": "code",
   "execution_count": null,
   "outputs": [],
   "source": [],
   "metadata": {
    "pycharm": {
     "name": "#%%\n"
    },
    "id": "A2DHcmqsi-Wo",
    "is_executing": true
   }
  },
  {
   "cell_type": "code",
   "execution_count": null,
   "outputs": [],
   "source": [],
   "metadata": {
    "pycharm": {
     "name": "#%%\n"
    },
    "id": "C-WTbQ7ki-Wo",
    "is_executing": true
   }
  },
  {
   "cell_type": "code",
   "execution_count": null,
   "outputs": [],
   "source": [],
   "metadata": {
    "pycharm": {
     "name": "#%%\n"
    },
    "id": "je5w1xWci-Wo",
    "is_executing": true
   }
  },
  {
   "cell_type": "code",
   "execution_count": null,
   "outputs": [],
   "source": [],
   "metadata": {
    "pycharm": {
     "name": "#%%\n"
    },
    "id": "rtkuIkTgi-Wo",
    "is_executing": true
   }
  },
  {
   "cell_type": "code",
   "execution_count": null,
   "outputs": [],
   "source": [],
   "metadata": {
    "pycharm": {
     "name": "#%%\n"
    },
    "id": "AB97fTfJi-Wp",
    "is_executing": true
   }
  },
  {
   "cell_type": "markdown",
   "source": [
    "## Load"
   ],
   "metadata": {
    "collapsed": false,
    "pycharm": {
     "name": "#%% md\n"
    },
    "id": "tjsSQNuQi-Wp"
   }
  },
  {
   "cell_type": "code",
   "execution_count": null,
   "outputs": [],
   "source": [
    "import os\n",
    "import boto3\n",
    "\n"
   ],
   "metadata": {
    "pycharm": {
     "name": "#%%\n"
    },
    "id": "Mnyq5Csei-Wp",
    "is_executing": true
   }
  },
  {
   "cell_type": "code",
   "execution_count": null,
   "outputs": [],
   "source": [],
   "metadata": {
    "pycharm": {
     "name": "#%%\n"
    },
    "id": "IoRjzy7Ji-Wp",
    "is_executing": true
   }
  }
 ],
 "metadata": {
  "kernelspec": {
   "display_name": "Python 3",
   "language": "python",
   "name": "python3"
  },
  "language_info": {
   "codemirror_mode": {
    "name": "ipython",
    "version": 2
   },
   "file_extension": ".py",
   "mimetype": "text/x-python",
   "name": "python",
   "nbconvert_exporter": "python",
   "pygments_lexer": "ipython2",
   "version": "2.7.6"
  },
  "colab": {
   "provenance": []
  }
 },
 "nbformat": 4,
 "nbformat_minor": 0
}
